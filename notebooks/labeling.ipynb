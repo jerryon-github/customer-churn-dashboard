{
 "cells": [
  {
   "cell_type": "code",
   "execution_count": null,
   "id": "bf1b3cca",
   "metadata": {},
   "outputs": [],
   "source": [
    "# YOLO Annotation Visualizer\n",
    "import os\n",
    "import cv2\n",
    "import matplotlib.pyplot as plt"
   ]
  },
  {
   "cell_type": "code",
   "execution_count": null,
   "id": "d2ac03cb",
   "metadata": {},
   "outputs": [],
   "source": [
    "# Path to image and label folders\n",
    "image_dir = '../data/images/train'\n",
    "label_dir = '../data/images/train'"
   ]
  },
  {
   "cell_type": "code",
   "execution_count": null,
   "id": "76ff6e9b",
   "metadata": {},
   "outputs": [],
   "source": [
    "# Class list (match your data.yaml)\n",
    "class_names = ['coke', 'pepsi', 'sprite']"
   ]
  },
  {
   "cell_type": "code",
   "execution_count": null,
   "id": "12b13fd4",
   "metadata": {},
   "outputs": [],
   "source": [
    "# Utility: draw bounding boxes from YOLO label\n",
    "def draw_boxes(image_path, label_path):\n",
    "    img = cv2.imread(image_path)\n",
    "    img = cv2.cvtColor(img, cv2.COLOR_BGR2RGB)\n",
    "    h, w, _ = img.shape\n",
    "    \n",
    "    with open(label_path, 'r') as f:\n",
    "        for line in f.readlines():\n",
    "            cls, x_c, y_c, bw, bh = map(float, line.strip().split())\n",
    "            x_c, y_c, bw, bh = x_c * w, y_c * h, bw * w, bh * h\n",
    "\n",
    "            x1 = int(x_c - bw / 2)\n",
    "            y1 = int(y_c - bh / 2)\n",
    "            x2 = int(x_c + bw / 2)\n",
    "            y2 = int(y_c + bh / 2)\n",
    "\n",
    "            cls_name = class_names[int(cls)]\n",
    "            cv2.rectangle(img, (x1, y1), (x2, y2), (0, 255, 0), 2)\n",
    "            cv2.putText(img, cls_name, (x1, y1 - 5), cv2.FONT_HERSHEY_SIMPLEX, 0.6, (255,0,0), 2)\n",
    "\n",
    "    plt.figure(figsize=(8,8))\n",
    "    plt.imshow(img)\n",
    "    plt.axis('off')\n",
    "    plt.show()"
   ]
  },
  {
   "cell_type": "code",
   "execution_count": null,
   "id": "1820dc04",
   "metadata": {},
   "outputs": [],
   "source": [
    "# View all samples\n",
    "image_files = [f for f in os.listdir(image_dir) if f.endswith('.jpg') or f.endswith('.png')]\n",
    "\n",
    "for img_file in image_files:\n",
    "    img_path = os.path.join(image_dir, img_file)\n",
    "    label_path = os.path.join(label_dir, img_file.replace('.jpg', '.txt').replace('.png', '.txt'))\n",
    "\n",
    "    print(f\"🔍 {img_file}\")\n",
    "    draw_boxes(img_path, label_path)"
   ]
  }
 ],
 "metadata": {
  "language_info": {
   "name": "python"
  }
 },
 "nbformat": 4,
 "nbformat_minor": 5
}
